{
 "cells": [
  {
   "cell_type": "code",
   "execution_count": 76,
   "metadata": {},
   "outputs": [],
   "source": [
    "## Posterior densities\n",
    "function posterior_mu(X, xj, y, w, sigma, mu0, tau0)\n",
    "    \n",
    "    # Numerator\n",
    "    return(((sum(xj .* (y - X * w)) / sigma) + (mu0/tau0)) / ((transpose(xj) * xj / sigma) + (1 / tau0)))\n",
    "    \n",
    "    end;\n",
    "\n",
    "function posterior_tau(xj, sigma, tau0)\n",
    "    \n",
    "    return(1 / ( (transpose(xj) * (xj ./ sigma)) + (1/tau0)))\n",
    "    \n",
    "    end;\n",
    "\n",
    "function posterior_rate(n, a0)\n",
    "    \n",
    "    return((n/2) + a0)\n",
    "    \n",
    "    end;\n",
    "\n",
    "function posterior_scale(X, w, y, b0)\n",
    "    \n",
    "    return( (sum((y - (X * w) ).^2) / 2 ) + b0 )\n",
    "    \n",
    "    end;"
   ]
  },
  {
   "cell_type": "code",
   "execution_count": 74,
   "metadata": {},
   "outputs": [
    {
     "data": {
      "text/plain": [
       "2.611036564911103"
      ]
     },
     "execution_count": 74,
     "metadata": {},
     "output_type": "execute_result"
    }
   ],
   "source": [
    "((sum(X[:,2] .* (X * w)) / sigma) + 1/5) / ((transpose(X[:,2]) * X[:,2] / sigma) + (1/5))\n",
    "((sum(xj .* (X * w)) / sigma) + (mu0/tau0)) / ((transpose(xj) * xj / sigma) + (1 / tau0))"
   ]
  },
  {
   "cell_type": "code",
   "execution_count": 67,
   "metadata": {},
   "outputs": [
    {
     "data": {
      "text/plain": [
       "0.010079967744103217"
      ]
     },
     "execution_count": 67,
     "metadata": {},
     "output_type": "execute_result"
    }
   ],
   "source": [
    "X = [2 5 3; 2 3 8; 0 9 8; 1 2 3]\n",
    "y = [2;5;4;6]\n",
    "w = [0.9;1.2;1.3]\n",
    "sigma = 1.2\n",
    "posterior_tau(X[:,2], 1.2, 25)"
   ]
  },
  {
   "cell_type": "code",
   "execution_count": 77,
   "metadata": {},
   "outputs": [
    {
     "data": {
      "text/plain": [
       "-1.9948004025494799"
      ]
     },
     "execution_count": 77,
     "metadata": {},
     "output_type": "execute_result"
    }
   ],
   "source": [
    "posterior_mu(X, X[:,2], y, w, sigma, 1, 5)"
   ]
  },
  {
   "cell_type": "code",
   "execution_count": null,
   "metadata": {},
   "outputs": [],
   "source": [
    "function gibbs_one_step(X, y, w, sigma, priors)\n",
    "    \n",
    "    # Number of params\n",
    "    nparam = len(priors)\n",
    "    \n",
    "    # Number of examples\n",
    "    n = size(X)[1]\n",
    "    \n",
    "    # For each, do\n",
    "    for j in 1:nparam\n",
    "        \n",
    "        # If j == nparam, then sigma\n",
    "        if j == nparam\n",
    "            \n",
    "            sigma = 1 / Gamma(posterior_rate(n, priors[j][:alpha]),\n",
    "                              posterior_scale(X, w, y, priors[j][:beta]))\n",
    "        \n",
    "        # Else, coefficient    \n",
    "        else\n",
    "            \n",
    "            w[j] = Normal(posterior_mu(X[:,1:end .!= j], X[:,j], y, w[1:end .!= j], sigma, \n",
    "                                priors[j][:mu], priors[j][:sd]),\n",
    "                          posterior_tau(xj, sigma, priors[j][:sd]))\n",
    "            \n",
    "            end;\n",
    "        \n",
    "        end;\n",
    "    \n",
    "    # Return the coefficient matrix\n",
    "    return(\n",
    "        Dict(\n",
    "            \"w\" => w,\n",
    "            \"sigma\" => sigma\n",
    "        )\n",
    "    )\n",
    "    \n",
    "    end;\n",
    "    \n",
    "    "
   ]
  },
  {
   "cell_type": "code",
   "execution_count": 16,
   "metadata": {},
   "outputs": [
    {
     "data": {
      "text/plain": [
       "3×3 Array{Float64,2}:\n",
       " 0.759719  0.395073  0.82096 \n",
       " 0.742021  0.627641  0.523115\n",
       " 0.231841  0.834954  0.132468"
      ]
     },
     "execution_count": 16,
     "metadata": {},
     "output_type": "execute_result"
    }
   ],
   "source": [
    "A = rand(3,3)"
   ]
  },
  {
   "cell_type": "code",
   "execution_count": 22,
   "metadata": {},
   "outputs": [
    {
     "name": "stderr",
     "output_type": "stream",
     "text": [
      "┌ Info: Recompiling stale cache file /home/jasper/.julia/compiled/v1.0/Distributions/xILW0.ji for Distributions [31c24e10-a181-5473-b8eb-7969acd0382f]\n",
      "└ @ Base loading.jl:1190\n"
     ]
    }
   ],
   "source": [
    "using Distributions"
   ]
  },
  {
   "cell_type": "code",
   "execution_count": 42,
   "metadata": {},
   "outputs": [
    {
     "data": {
      "text/plain": [
       "10×5 Array{Float64,2}:\n",
       " 6.94807e-310  6.94807e-310  6.94807e-310  6.94807e-310  6.94807e-310\n",
       " 6.94807e-310  6.94807e-310  6.94807e-310  6.94807e-310  6.94807e-310\n",
       " 6.94807e-310  6.94807e-310  6.94807e-310  6.94807e-310  6.94807e-310\n",
       " 6.94807e-310  6.94807e-310  6.94807e-310  6.94807e-310  6.94807e-310\n",
       " 6.94807e-310  6.94807e-310  6.94807e-310  6.94807e-310  6.94807e-310\n",
       " 6.94807e-310  6.94807e-310  6.94807e-310  6.94807e-310  6.94807e-310\n",
       " 6.94807e-310  6.94807e-310  6.94807e-310  6.94807e-310  6.94807e-310\n",
       " 6.94807e-310  6.94807e-310  6.94807e-310  6.94807e-310  6.94807e-310\n",
       " 6.94807e-310  6.94807e-310  6.94807e-310  6.94807e-310  6.94807e-310\n",
       " 6.94807e-310  6.94807e-310  6.94807e-310  6.94807e-310  6.94807e-310"
      ]
     },
     "execution_count": 42,
     "metadata": {},
     "output_type": "execute_result"
    }
   ],
   "source": [
    "g = Array{Float64}(undef, 10, 5)"
   ]
  },
  {
   "cell_type": "code",
   "execution_count": 35,
   "metadata": {},
   "outputs": [],
   "source": [
    "function gibbs_sampler(X, y, initial_values, iterations, priors, burn)\n",
    "    \n",
    "    # Open up a results matrix\n",
    "    res = Array(Float64, (iterations, size(X)[2]))\n",
    "    \n",
    "    # For each iterations\n",
    "    for i in 1:iterations\n",
    "        \n",
    "        # One stepp of the gibbs sampler\n",
    "        w, sigma = gibbs_one_step(X, y, w, sigma, priors)\n",
    "        \n",
    "        # Add to results\n",
    "        res[:,] = [w,sigma]\n",
    "        \n",
    "        end;\n",
    "    \n",
    "    # Return results\n",
    "    return(res)\n",
    "    \n",
    "    end;"
   ]
  }
 ],
 "metadata": {
  "kernelspec": {
   "display_name": "Julia 1.0.3",
   "language": "julia",
   "name": "julia-1.0"
  },
  "language_info": {
   "file_extension": ".jl",
   "mimetype": "application/julia",
   "name": "julia",
   "version": "1.0.3"
  }
 },
 "nbformat": 4,
 "nbformat_minor": 2
}
